{
  "nbformat": 4,
  "nbformat_minor": 0,
  "metadata": {
    "colab": {
      "provenance": [],
      "authorship_tag": "ABX9TyPcLDgQ9+wWHzKOQmlk1mhs",
      "include_colab_link": true
    },
    "kernelspec": {
      "name": "python3",
      "display_name": "Python 3"
    },
    "language_info": {
      "name": "python"
    }
  },
  "cells": [
    {
      "cell_type": "markdown",
      "metadata": {
        "id": "view-in-github",
        "colab_type": "text"
      },
      "source": [
        "<a href=\"https://colab.research.google.com/github/MarjAlmarez/githubTest/blob/main/GCash_Kmeans_Clustering.ipynb\" target=\"_parent\"><img src=\"https://colab.research.google.com/assets/colab-badge.svg\" alt=\"Open In Colab\"/></a>"
      ]
    },
    {
      "cell_type": "code",
      "execution_count": null,
      "metadata": {
        "id": "f4i5n4yC0mK3"
      },
      "outputs": [],
      "source": [
        "import pandas as pd\n",
        "from sklearn.cluster import KMeans\n",
        "from sklearn.preprocessing import StandardScaler\n",
        "from sklearn.impute import SimpleImputer\n",
        "import matplotlib.pyplot as plt"
      ]
    },
    {
      "cell_type": "code",
      "source": [
        "# Load the dataset\n",
        "df = pd.read_csv('gcash_coded.csv')"
      ],
      "metadata": {
        "id": "WPMlVkwi00nK"
      },
      "execution_count": null,
      "outputs": []
    },
    {
      "cell_type": "code",
      "source": [
        "# Check for and remove duplicates\n",
        "df = df.drop_duplicates()"
      ],
      "metadata": {
        "id": "C1wsr-SY3ezj"
      },
      "execution_count": null,
      "outputs": []
    },
    {
      "cell_type": "code",
      "source": [
        "# Reset the index\n",
        "df = df.reset_index(drop=True)"
      ],
      "metadata": {
        "id": "WsCxGrmW3hVV"
      },
      "execution_count": null,
      "outputs": []
    },
    {
      "cell_type": "code",
      "source": [
        "#Check the shape of the DataFrame\n",
        "print(df.shape)"
      ],
      "metadata": {
        "colab": {
          "base_uri": "https://localhost:8080/"
        },
        "id": "HBkfw8fR3jde",
        "outputId": "cfd33d66-c2f0-40ba-f901-bd7c57446a61"
      },
      "execution_count": null,
      "outputs": [
        {
          "output_type": "stream",
          "name": "stdout",
          "text": [
            "(15709, 46)\n"
          ]
        }
      ]
    },
    {
      "cell_type": "code",
      "source": [
        "# Select relevant columns for clustering\n",
        "columns_for_clustering = ['Debit', 'Credit', 'Hour', 'Is_Weekend', 'Is_1st_to_3rd', 'Is_14th_to_16th', 'Is_Last_Three_Days']"
      ],
      "metadata": {
        "id": "HsBaUMPk02Xq"
      },
      "execution_count": null,
      "outputs": []
    },
    {
      "cell_type": "code",
      "source": [
        "# Extract the relevant data\n",
        "X = df[columns_for_clustering]"
      ],
      "metadata": {
        "id": "T6dHO-wj3uoZ"
      },
      "execution_count": null,
      "outputs": []
    },
    {
      "cell_type": "code",
      "source": [
        "# Handle missing values if any\n",
        "imputer = SimpleImputer(strategy='mean')\n",
        "X_imputed = imputer.fit_transform(X)"
      ],
      "metadata": {
        "id": "XrNi30hf04tZ"
      },
      "execution_count": null,
      "outputs": []
    },
    {
      "cell_type": "code",
      "source": [
        "# Standardize the data\n",
        "scaler = StandardScaler()\n",
        "X_scaled = scaler.fit_transform(X_imputed)"
      ],
      "metadata": {
        "id": "53HzbajW3zRx"
      },
      "execution_count": null,
      "outputs": []
    },
    {
      "cell_type": "code",
      "source": [
        "# Determine the optimal number of clusters using the Elbow Method\n",
        "wcss = []  # Within-Cluster-Sum-of-Squares\n",
        "for i in range(1, 11):\n",
        "    kmeans = KMeans(n_clusters=i, init='k-means++', max_iter=300, n_init=10, random_state=0)\n",
        "    kmeans.fit(X_scaled)\n",
        "    wcss.append(kmeans.inertia_)"
      ],
      "metadata": {
        "id": "rDr-ofVp318F"
      },
      "execution_count": null,
      "outputs": []
    },
    {
      "cell_type": "code",
      "source": [
        "# Plot the Elbow Method graph\n",
        "plt.plot(range(1, 11), wcss)\n",
        "plt.title('Elbow Method')\n",
        "plt.xlabel('Number of clusters')\n",
        "plt.ylabel('WCSS')  # Within-Cluster-Sum-of-Squares\n",
        "plt.show()"
      ],
      "metadata": {
        "colab": {
          "base_uri": "https://localhost:8080/",
          "height": 472
        },
        "id": "TqfXzgf236tC",
        "outputId": "2c1d114a-6baf-491a-f04b-6d7d011ca6d6"
      },
      "execution_count": null,
      "outputs": [
        {
          "output_type": "display_data",
          "data": {
            "text/plain": [
              "<Figure size 640x480 with 1 Axes>"
            ],
            "image/png": "[encoded data removed]"
          },
          "metadata": {}
        }
      ]
    },
    {
      "cell_type": "code",
      "source": [
        "# Based on the Elbow Method, choose the optimal number of clusters\n",
        "optimal_clusters = 9  # Adjust as needed"
      ],
      "metadata": {
        "id": "DjKYMP6v3-bD"
      },
      "execution_count": null,
      "outputs": []
    },
    {
      "cell_type": "code",
      "source": [
        "# Apply k-means clustering with the optimal number of clusters\n",
        "kmeans = KMeans(n_clusters=optimal_clusters, init='k-means++', max_iter=300, n_init=10, random_state=0)\n",
        "df['Cluster'] = kmeans.fit_predict(X_scaled)"
      ],
      "metadata": {
        "id": "gJdJbiJE4A9D"
      },
      "execution_count": null,
      "outputs": []
    },
    {
      "cell_type": "code",
      "source": [
        "# View the clustered data\n",
        "print(df[['Description','Debit', 'Credit', 'Hour', 'Is_Weekend', 'Is_1st_to_3rd', 'Is_14th_to_16th', 'Is_Last_Three_Days', 'Cluster']])\n"
      ],
      "metadata": {
        "id": "gDDATyen4DuZ",
        "outputId": "e736bcee-42a8-4179-d335-e781e6d1ade9",
        "colab": {
          "base_uri": "https://localhost:8080/"
        }
      },
      "execution_count": null,
      "outputs": [
        {
          "output_type": "stream",
          "name": "stdout",
          "text": [
            "                                             Description  Debit  Credit  Hour  \\\n",
            "0                                   Payment to Dragonpay  300.0     0.0   0.0   \n",
            "1                                   Payment to Dragonpay   50.0     0.0   0.0   \n",
            "2               Transfer from 09166573626 to 09501567919    0.0   220.0  18.0   \n",
            "3      Payment to Food Panda Philippines Inc., Mercha...  216.0     0.0  18.0   \n",
            "4               Transfer from 09567746080 to 09501567919    0.0   700.0  16.0   \n",
            "...                                                  ...    ...     ...   ...   \n",
            "15704  Withdraw from GSave Account with Reference No....    0.0   300.0  23.0   \n",
            "15705  Transfer from 09158862472 to 09564160374 Withd...  535.0     0.0  23.0   \n",
            "15706  Withdraw from GSave Account with Reference No....    0.0   500.0  17.0   \n",
            "15707  Transfer from 09158862472 to 09564160374 Withd...  540.0     0.0  17.0   \n",
            "15708  Withdraw from GSave Account with Reference No....    0.0  1500.0   5.0   \n",
            "\n",
            "       Is_Weekend  Is_1st_to_3rd  Is_14th_to_16th  Is_Last_Three_Days  Cluster  \n",
            "0             0.0            0.0              0.0                 0.0        6  \n",
            "1             0.0            0.0              0.0                 0.0        6  \n",
            "2             0.0            0.0              0.0                 0.0        5  \n",
            "3             0.0            0.0              0.0                 0.0        5  \n",
            "4             0.0            0.0              0.0                 0.0        5  \n",
            "...           ...            ...              ...                 ...      ...  \n",
            "15704         1.0            0.0              0.0                 1.0        4  \n",
            "15705         1.0            0.0              0.0                 1.0        4  \n",
            "15706         1.0            0.0              0.0                 0.0        2  \n",
            "15707         1.0            0.0              0.0                 0.0        2  \n",
            "15708         1.0            0.0              0.0                 0.0        2  \n",
            "\n",
            "[15709 rows x 9 columns]\n"
          ]
        }
      ]
    },
    {
      "cell_type": "code",
      "source": [
        "cluster_sums = df.groupby('Cluster').sum()\n",
        "print(cluster_sums)"
      ],
      "metadata": {
        "colab": {
          "base_uri": "https://localhost:8080/"
        },
        "id": "i5i5Deny5AtJ",
        "outputId": "e94b3210-76c6-4157-b80b-88dbf52153f4"
      },
      "execution_count": null,
      "outputs": [
        {
          "output_type": "stream",
          "name": "stdout",
          "text": [
            "              Debit      Credit       Year    Month      Day  Week_of_Month  \\\n",
            "Cluster                                                                       \n",
            "0              0.00  4823874.92   655232.0   2027.0   4896.0          890.0   \n",
            "1        1319400.12  1144417.53  3415372.0  10897.0  25363.0         5067.0   \n",
            "2        1762074.58  1329189.03  6246457.0  20015.0  47560.0         8304.0   \n",
            "3        1107780.79   885702.35  3007061.0   9892.0   2910.0         1487.0   \n",
            "4        1162649.35   988625.96  3273869.0  10255.0  47635.0         8004.0   \n",
            "5        2510456.24  1972225.30  8100769.0  25173.0  62616.0        10967.0   \n",
            "6        2028916.90  1575236.34  6199842.0  19754.0  47413.0         8332.0   \n",
            "7        4245018.69        0.00   418632.0   1400.0   3014.0          558.0   \n",
            "8              0.00  1827001.26    82924.0    298.0    532.0          102.0   \n",
            "\n",
            "         Week_of_Year  Is_Weekend     Hour  Is_1st_to_3rd  ...  Week_4  \\\n",
            "Cluster                                                    ...           \n",
            "0              8142.0        61.0   4362.0           17.0  ...    55.0   \n",
            "1             43678.0       479.0  23914.0            0.0  ...     0.0   \n",
            "2             79382.0      3089.0  43762.0            0.0  ...   918.0   \n",
            "3             38625.0       399.0  21215.0         1487.0  ...     0.0   \n",
            "4             44411.0       442.0  22395.0            0.0  ...    91.0   \n",
            "5            101620.0         0.0  71555.0            0.0  ...  1262.0   \n",
            "6             79809.0         0.0  27866.0            0.0  ...   954.0   \n",
            "7              5635.0        54.0   2925.0           13.0  ...    27.0   \n",
            "8              1193.0        17.0    555.0            7.0  ...     6.0   \n",
            "\n",
            "         Week_5  Weekend_0  Weekend_1  Time_of_Day_Afternoon  \\\n",
            "Cluster                                                        \n",
            "0          27.0      263.0       61.0                   73.0   \n",
            "1           0.0     1210.0      479.0                  459.0   \n",
            "2          70.0        0.0     3089.0                  865.0   \n",
            "3           0.0     1088.0      399.0                  395.0   \n",
            "4        1528.0     1177.0      442.0                  438.0   \n",
            "5         109.0     4006.0        0.0                 1921.0   \n",
            "6          84.0     3066.0        0.0                    0.0   \n",
            "7          17.0      153.0       54.0                   50.0   \n",
            "8           5.0       24.0       17.0                    4.0   \n",
            "\n",
            "         Time_of_Day_Early Morning  Time_of_Day_Evening  \\\n",
            "Cluster                                                   \n",
            "0                              2.0                 69.0   \n",
            "1                             26.0                378.0   \n",
            "2                             51.0                753.0   \n",
            "3                             28.0                351.0   \n",
            "4                             22.0                334.0   \n",
            "5                              0.0               1634.0   \n",
            "6                            100.0                  0.0   \n",
            "7                              1.0                 43.0   \n",
            "8                              0.0                  8.0   \n",
            "\n",
            "         Time_of_Day_Late Night  Time_of_Day_Lunch  Time_of_Day_Morning  \n",
            "Cluster                                                                  \n",
            "0                          40.0               69.0                 71.0  \n",
            "1                         174.0              356.0                296.0  \n",
            "2                         350.0              581.0                489.0  \n",
            "3                         164.0              296.0                253.0  \n",
            "4                         207.0              319.0                299.0  \n",
            "5                         451.0                0.0                  0.0  \n",
            "6                         363.0             1405.0               1198.0  \n",
            "7                          26.0               43.0                 44.0  \n",
            "8                          13.0                6.0                 10.0  \n",
            "\n",
            "[9 rows x 40 columns]\n"
          ]
        },
        {
          "output_type": "stream",
          "name": "stderr",
          "text": [
            "<ipython-input-18-86c23c8dc290>:1: FutureWarning: The default value of numeric_only in DataFrameGroupBy.sum is deprecated. In a future version, numeric_only will default to False. Either specify numeric_only or select only columns which should be valid for the function.\n",
            "  cluster_sums = df.groupby('Cluster').sum()\n"
          ]
        }
      ]
    },
    {
      "cell_type": "code",
      "source": [
        "cluster_mean = df.groupby('Cluster').mean()\n",
        "print(cluster_mean)"
      ],
      "metadata": {
        "id": "0cP_lP8T5Q2h",
        "outputId": "5c6d6bea-bd3b-4251-8ee7-b642acfc047e",
        "colab": {
          "base_uri": "https://localhost:8080/"
        }
      },
      "execution_count": null,
      "outputs": [
        {
          "output_type": "stream",
          "name": "stdout",
          "text": [
            "                Debit        Credit         Year     Month        Day  \\\n",
            "Cluster                                                                 \n",
            "0            0.000000  14888.502840  2022.320988  6.256173  15.111111   \n",
            "1          781.172362    677.571066  2022.126702  6.451747  15.016578   \n",
            "2          570.435280    430.297517  2022.161541  6.479443  15.396568   \n",
            "3          744.976994    595.630363  2022.233356  6.652320   1.956960   \n",
            "4          718.128073    610.639876  2022.155034  6.334157  29.422483   \n",
            "5          626.674049    492.317848  2022.159011  6.283824  15.630554   \n",
            "6          661.747195    513.775714  2022.127202  6.442922  15.464123   \n",
            "7        20507.336667      0.000000  2022.376812  6.763285  14.560386   \n",
            "8            0.000000  44561.006341  2022.536585  7.268293  12.975610   \n",
            "\n",
            "         Week_of_Month  Week_of_Year  Is_Weekend       Hour  Is_1st_to_3rd  \\\n",
            "Cluster                                                                      \n",
            "0             2.746914     25.129630    0.188272  13.462963       0.052469   \n",
            "1             3.000000     25.860272    0.283600  14.158674       0.000000   \n",
            "2             2.688249     25.698284    1.000000  14.167044       0.000000   \n",
            "3             1.000000     25.975118    0.268325  14.266980       1.000000   \n",
            "4             4.943792     27.431130    0.273008  13.832613       0.000000   \n",
            "5             2.737644     25.366950    0.000000  17.861957       0.000000   \n",
            "6             2.717547     26.030333    0.000000   9.088715       0.000000   \n",
            "7             2.695652     27.222222    0.260870  14.130435       0.062802   \n",
            "8             2.487805     29.097561    0.414634  13.536585       0.170732   \n",
            "\n",
            "         ...    Week_4    Week_5  Weekend_0  Weekend_1  Time_of_Day_Afternoon  \\\n",
            "Cluster  ...                                                                    \n",
            "0        ...  0.169753  0.083333   0.811728   0.188272               0.225309   \n",
            "1        ...  0.000000  0.000000   0.716400   0.283600               0.271758   \n",
            "2        ...  0.297184  0.022661   0.000000   1.000000               0.280026   \n",
            "3        ...  0.000000  0.000000   0.731675   0.268325               0.265636   \n",
            "4        ...  0.056208  0.943792   0.726992   0.273008               0.270537   \n",
            "5        ...  0.315027  0.027209   1.000000   0.000000               0.479531   \n",
            "6        ...  0.311155  0.027397   1.000000   0.000000               0.000000   \n",
            "7        ...  0.130435  0.082126   0.739130   0.260870               0.241546   \n",
            "8        ...  0.146341  0.121951   0.585366   0.414634               0.097561   \n",
            "\n",
            "         Time_of_Day_Early Morning  Time_of_Day_Evening  \\\n",
            "Cluster                                                   \n",
            "0                         0.006173             0.212963   \n",
            "1                         0.015394             0.223801   \n",
            "2                         0.016510             0.243768   \n",
            "3                         0.018830             0.236046   \n",
            "4                         0.013589             0.206300   \n",
            "5                         0.000000             0.407888   \n",
            "6                         0.032616             0.000000   \n",
            "7                         0.004831             0.207729   \n",
            "8                         0.000000             0.195122   \n",
            "\n",
            "         Time_of_Day_Late Night  Time_of_Day_Lunch  Time_of_Day_Morning  \n",
            "Cluster                                                                  \n",
            "0                      0.123457           0.212963             0.219136  \n",
            "1                      0.103020           0.210776             0.175252  \n",
            "2                      0.113305           0.188087             0.158304  \n",
            "3                      0.110289           0.199059             0.170141  \n",
            "4                      0.127857           0.197035             0.184682  \n",
            "5                      0.112581           0.000000             0.000000  \n",
            "6                      0.118395           0.458252             0.390737  \n",
            "7                      0.125604           0.207729             0.212560  \n",
            "8                      0.317073           0.146341             0.243902  \n",
            "\n",
            "[9 rows x 40 columns]\n"
          ]
        },
        {
          "output_type": "stream",
          "name": "stderr",
          "text": [
            "<ipython-input-19-5b878f7920ae>:1: FutureWarning: The default value of numeric_only in DataFrameGroupBy.mean is deprecated. In a future version, numeric_only will default to False. Either specify numeric_only or select only columns which should be valid for the function.\n",
            "  cluster_mean = df.groupby('Cluster').mean()\n"
          ]
        }
      ]
    },
    {
      "cell_type": "code",
      "source": [
        "print(df['Cluster'].value_counts())"
      ],
      "metadata": {
        "id": "MbeYCTlw5cED",
        "outputId": "aeae7edb-11a8-4060-8871-22df869e9075",
        "colab": {
          "base_uri": "https://localhost:8080/"
        }
      },
      "execution_count": null,
      "outputs": [
        {
          "output_type": "stream",
          "name": "stdout",
          "text": [
            "5    4187\n",
            "2    3089\n",
            "6    3066\n",
            "1    1689\n",
            "4    1619\n",
            "3    1487\n",
            "0     324\n",
            "7     207\n",
            "8      41\n",
            "Name: Cluster, dtype: int64\n"
          ]
        }
      ]
    }
  ]
}